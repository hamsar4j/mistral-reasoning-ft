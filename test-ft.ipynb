{
 "cells": [
  {
   "cell_type": "code",
   "execution_count": 1,
   "metadata": {},
   "outputs": [
    {
     "name": "stderr",
     "output_type": "stream",
     "text": [
      "/home/ubuntu/code/mistral-reasoning-ft/.venv/lib/python3.10/site-packages/tqdm/auto.py:21: TqdmWarning: IProgress not found. Please update jupyter and ipywidgets. See https://ipywidgets.readthedocs.io/en/stable/user_install.html\n",
      "  from .autonotebook import tqdm as notebook_tqdm\n"
     ]
    },
    {
     "name": "stdout",
     "output_type": "stream",
     "text": [
      "🦥 Unsloth: Will patch your computer to enable 2x faster free finetuning.\n",
      "🦥 Unsloth Zoo will now patch everything to make training faster!\n"
     ]
    }
   ],
   "source": [
    "from utils.utils import setup_logging\n",
    "from model.config import ModelConfig\n",
    "from model.inference import load_model_for_inference\n",
    "import logging\n",
    "\n",
    "\n",
    "def load_model():\n",
    "    setup_logging()\n",
    "    logger = logging.getLogger(__name__)\n",
    "\n",
    "    adapter_path = \"models/mistral-7b-reasoning-lora\"\n",
    "    model_config = ModelConfig()\n",
    "\n",
    "    logger.info(f\"Loading model from {adapter_path}\")\n",
    "    model, tokenizer = load_model_for_inference(model_config, adapter_path)\n",
    "    logger.info(\"Model loaded successfully\")\n",
    "    return model, tokenizer"
   ]
  },
  {
   "cell_type": "code",
   "execution_count": 2,
   "metadata": {},
   "outputs": [
    {
     "name": "stderr",
     "output_type": "stream",
     "text": [
      "2025-03-03 17:42:02 - __main__ - INFO - Loading model from models/mistral-7b-reasoning-lora\n"
     ]
    },
    {
     "name": "stdout",
     "output_type": "stream",
     "text": [
      "==((====))==  Unsloth 2025.2.15: Fast Mistral patching. Transformers: 4.49.0.\n",
      "   \\\\   /|    GPU: NVIDIA L4. Max memory: 21.951 GB. Platform: Linux.\n",
      "O^O/ \\_/ \\    Torch: 2.6.0+cu124. CUDA: 8.9. CUDA Toolkit: 12.4. Triton: 3.2.0\n",
      "\\        /    Bfloat16 = TRUE. FA [Xformers = 0.0.29.post3. FA2 = True]\n",
      " \"-____-\"     Free Apache license: http://github.com/unslothai/unsloth\n",
      "Unsloth: Fast downloading is enabled - ignore downloading bars which are red colored!\n"
     ]
    },
    {
     "name": "stderr",
     "output_type": "stream",
     "text": [
      "2025-03-03 17:42:04 - accelerate.utils.modeling - INFO - We will use 90% of the memory on device 0 for storing the model, and 10% for the buffer to avoid OOM. You can set `max_memory` in to a higher value to use more memory (at your own risk).\n",
      "2025-03-03 17:42:08 - __main__ - INFO - Model loaded successfully\n"
     ]
    }
   ],
   "source": [
    "model, tokenizer = load_model()"
   ]
  },
  {
   "cell_type": "code",
   "execution_count": 22,
   "metadata": {},
   "outputs": [],
   "source": [
    "def generate_response(model, tokenizer, prompt: str):\n",
    "    inputs = tokenizer.apply_chat_template(\n",
    "        [{\"role\": \"user\", \"content\": prompt}], return_tensors=\"pt\"\n",
    "    ).to(model.device)\n",
    "\n",
    "    outputs = model.generate(\n",
    "        input_ids=inputs,\n",
    "        max_new_tokens=30000,\n",
    "        do_sample=True,\n",
    "        temperature=0.5,\n",
    "        # min_p=0.1,\n",
    "    )\n",
    "    response = tokenizer.decode(\n",
    "        outputs[0][inputs.shape[1] :], skip_special_tokens=False\n",
    "    )\n",
    "    # response = tokenizer.batch_decode(outputs)\n",
    "    return response"
   ]
  },
  {
   "cell_type": "code",
   "execution_count": 23,
   "metadata": {},
   "outputs": [],
   "source": [
    "from pprint import pprint\n",
    "\n",
    "\n",
    "def run_inference(model, tokenizer, prompt):\n",
    "    response = generate_response(model, tokenizer, prompt)\n",
    "    pprint(response)"
   ]
  },
  {
   "cell_type": "code",
   "execution_count": 24,
   "metadata": {},
   "outputs": [],
   "source": [
    "prompt = \"Which number is greater, 9.11 or 9.01?\"\n",
    "# prompt = \"How many positive integers less than 10,000 have at most two different digits?\""
   ]
  },
  {
   "cell_type": "code",
   "execution_count": 25,
   "metadata": {},
   "outputs": [
    {
     "name": "stdout",
     "output_type": "stream",
     "text": [
      "('[THINK]\\n'\n",
      " 'How many tenths are in 9.11? ** 9.11 is 11/10 = <<11/10=1.1>>1.1 tenths '\n",
      " 'larger than 9.01 How many tenths are in 9.01? ** 9.01 is 1/10 = '\n",
      " '<<1/10=0.1>>0.1 tenths smaller than 9.11 How many tenths are in 9.11 and '\n",
      " '9.01? ** The difference between 9.11 and 9.01 is 1.1 - 0.1 = <<1.1-0.1=1>>1 '\n",
      " 'tenths\\n'\n",
      " '[/THINK]\\n'\n",
      " '\\n'\n",
      " '[ANSWER]\\n'\n",
      " '1\\n'\n",
      " '[/ANSWER]</s>')\n"
     ]
    }
   ],
   "source": [
    "run_inference(model, tokenizer, prompt)"
   ]
  }
 ],
 "metadata": {
  "kernelspec": {
   "display_name": ".venv",
   "language": "python",
   "name": "python3"
  },
  "language_info": {
   "codemirror_mode": {
    "name": "ipython",
    "version": 3
   },
   "file_extension": ".py",
   "mimetype": "text/x-python",
   "name": "python",
   "nbconvert_exporter": "python",
   "pygments_lexer": "ipython3",
   "version": "3.11.9"
  }
 },
 "nbformat": 4,
 "nbformat_minor": 2
}
