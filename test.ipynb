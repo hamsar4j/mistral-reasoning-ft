{
 "cells": [
  {
   "cell_type": "code",
   "execution_count": 3,
   "metadata": {},
   "outputs": [
    {
     "name": "stderr",
     "output_type": "stream",
     "text": [
      "/home/ubuntu/code/mistral-reasoning-ft/.venv/lib/python3.10/site-packages/tqdm/auto.py:21: TqdmWarning: IProgress not found. Please update jupyter and ipywidgets. See https://ipywidgets.readthedocs.io/en/stable/user_install.html\n",
      "  from .autonotebook import tqdm as notebook_tqdm\n"
     ]
    }
   ],
   "source": [
    "from transformers import AutoModelForCausalLM, AutoTokenizer, BitsAndBytesConfig\n",
    "import torch\n",
    "\n",
    "model_id = \"mistralai/Mistral-7B-Instruct-v0.3\"\n",
    "tokenizer = AutoTokenizer.from_pretrained(model_id, use_fast=True)"
   ]
  },
  {
   "cell_type": "code",
   "execution_count": 4,
   "metadata": {},
   "outputs": [
    {
     "name": "stderr",
     "output_type": "stream",
     "text": [
      "`low_cpu_mem_usage` was None, now default to True since model is quantized.\n",
      "Loading checkpoint shards: 100%|██████████| 3/3 [01:49<00:00, 36.66s/it]\n"
     ]
    }
   ],
   "source": [
    "quantization_config = BitsAndBytesConfig(\n",
    "    load_in_4bit=True,\n",
    "    bnb_4bit_compute_dtype=torch.bfloat16,\n",
    "    bnb_4bit_quant_type=\"nf4\",\n",
    "    bnb_4bit_use_double_quant=True,\n",
    ")\n",
    "\n",
    "base_model = AutoModelForCausalLM.from_pretrained(\n",
    "    model_id,\n",
    "    quantization_config=quantization_config,\n",
    "    attn_implementation=\"flash_attention_2\",\n",
    ")"
   ]
  },
  {
   "cell_type": "code",
   "execution_count": 9,
   "metadata": {},
   "outputs": [],
   "source": [
    "def generate_response(prompt):\n",
    "    # Format the input using the chat template\n",
    "    inputs = tokenizer.apply_chat_template(\n",
    "        [{\"role\": \"user\", \"content\": prompt}], return_tensors=\"pt\"\n",
    "    ).to(base_model.device)\n",
    "\n",
    "    # Generate with parameters suited for reasoning\n",
    "    outputs = base_model.generate(\n",
    "        input_ids=inputs,\n",
    "        max_new_tokens=32768,\n",
    "        temperature=0.5,\n",
    "        top_p=0.9,\n",
    "        do_sample=True,\n",
    "    )\n",
    "\n",
    "    # Decode the response, removing the prompt\n",
    "    response = tokenizer.decode(outputs[0][inputs.shape[1] :], skip_special_tokens=True)\n",
    "    return response"
   ]
  },
  {
   "cell_type": "code",
   "execution_count": 10,
   "metadata": {},
   "outputs": [
    {
     "name": "stderr",
     "output_type": "stream",
     "text": [
      "The attention mask and the pad token id were not set. As a consequence, you may observe unexpected behavior. Please pass your input's `attention_mask` to obtain reliable results.\n",
      "Setting `pad_token_id` to `eos_token_id`:2 for open-end generation.\n"
     ]
    },
    {
     "name": "stdout",
     "output_type": "stream",
     "text": [
      "To prove that there are infinitely many initial situations where the second player can win, we can show that for any positive integer n, the second player can win if there are at least n^2 + 1 pebbles on the table initially.\n",
      "\n",
      "We will use mathematical induction to prove this claim.\n",
      "\n",
      "Base case: n = 1\n",
      "If there are at least 2 pebbles on the table, the second player can take 1 pebble (1^2), leaving 1 pebble. The first player, in their move, can only take 1 pebble (1^2), leaving no pebbles. The second player wins.\n",
      "\n",
      "Inductive step:\n",
      "Assume the claim holds for some positive integer k, i.e., if there are at least (k+1)^2 + 1 pebbles on the table, the second player can win.\n",
      "\n",
      "Now consider the case when there are at least (k+2)^2 + 1 pebbles on the table. The first player can take at most (1^2) = 1 pebble in their first move, leaving at least (k+2)^2 pebbles on the table.\n",
      "\n",
      "The second player can take (k+1)^2 pebbles in their move, leaving at least 1 pebble on the table. The first player, in their next move, can take at most (1^2) = 1 pebble, leaving at least (k+1)^2 pebbles on the table.\n",
      "\n",
      "Now the second player can take (k+1)^2 pebbles again, leaving at least 1 pebble on the table. The first player, in their next move, can take at most (1^2) = 1 pebble, leaving at least (k+1)^2 pebbles on the table.\n",
      "\n",
      "By repeating this pattern, the second player can take (k+1)^2 pebbles in each of their moves, while the first player can only take 1 pebble in each of their moves. This process continues until the first player cannot make a move, at which point the second player wins.\n",
      "\n",
      "Since the first player can only take 1 pebble at a time, the number of pebbles left on the table after the first player's moves is always greater than or equal to the number of moves the first player has made. Since the first player can make at most k+1 moves, there will always be at least (k+1)^2 + 1 pebbles on the table after the first player's moves.\n",
      "\n",
      "By the induction hypothesis, since there are at least (k+2)^2 + 1 pebbles on the table initially, the second player can win.\n",
      "\n",
      "Since the claim holds for the base case n = 1 and the inductive step holds for all positive integers k, by the principle of mathematical induction, the claim holds for all positive integers n, i.e., if there are at least n^2 + 1 pebbles on the table initially, the second player can win.\n",
      "\n",
      "Therefore, there are infinitely many initial situations in which the second player can win no matter how his opponent plays.\n"
     ]
    }
   ],
   "source": [
    "question = \"Consider the following two person game. A number of pebbles are situated on the table. Two players make their moves alternately. A move consists of taking off the table  $x$  pebbles where  $x$  is the square of any positive integer. The player who is unable to make a move loses. Prove that there are infinitely many initial situations in which the second player can win no matter how his opponent plays.\"\n",
    "response = generate_response(question)\n",
    "print(response)"
   ]
  },
  {
   "cell_type": "code",
   "execution_count": null,
   "metadata": {},
   "outputs": [],
   "source": []
  }
 ],
 "metadata": {
  "language_info": {
   "name": "python"
  }
 },
 "nbformat": 4,
 "nbformat_minor": 2
}
